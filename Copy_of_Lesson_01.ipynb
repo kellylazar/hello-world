{
  "cells": [
    {
      "cell_type": "markdown",
      "metadata": {
        "id": "view-in-github",
        "colab_type": "text"
      },
      "source": [
        "<a href=\"https://colab.research.google.com/github/kellylazar/hello-world/blob/master/Copy_of_Lesson_01.ipynb\" target=\"_parent\"><img src=\"https://colab.research.google.com/assets/colab-badge.svg\" alt=\"Open In Colab\"/></a>"
      ]
    },
    {
      "cell_type": "markdown",
      "metadata": {
        "id": "cMQLgjMlCfhS"
      },
      "source": [
        "# Lesson 01: Python Basics and Table Operations\n",
        "\n",
        "Welcome to Lesson 01!  Throughout the course you will complete assignments like this one. You can't learn technical subjects without hands-on practice, so these assignments are an important part of the course.\n",
        "\n",
        "Collaborating on labs is more than okay -- it's encouraged! You should rarely remain stuck for more than a few minutes on a question, so ask a post to the discussion board or ask your instructor for help. Explaining things is beneficial, too -- the best way to solidify your knowledge of a subject is to explain it. You should **not** just copy/paste someone else's code, but rather work together to gain understanding of the task you need to complete. \n",
        "\n",
        "\n",
        "## Today's Lesson\n",
        "\n",
        "In today's lab, you'll learn how to:\n",
        "\n",
        "- do basic arithmetic in Python.\n",
        "\n",
        "- assign values to variables.\n",
        "\n",
        "- call functions.\n",
        "\n",
        "- manipulate table objects.\n",
        "\n",
        "Let's get started!\n",
        "\n",
        "## Words of Caution\n",
        "\n",
        "Remember to run the cell below. It's for setting up the environment so you can have access to what's needed for this lesson. For now, don't worry about what it means: we'll learn more about what's inside of it in the next few lessons."
      ]
    },
    {
      "cell_type": "code",
      "execution_count": 1,
      "metadata": {
        "id": "4iFAvpZ6CfhY"
      },
      "outputs": [],
      "source": [
        "from datascience import *\n",
        "import numpy as np\n",
        "\n",
        "%matplotlib inline\n",
        "import matplotlib.pyplot as plt\n",
        "plt.style.use('fivethirtyeight')"
      ]
    },
    {
      "cell_type": "markdown",
      "metadata": {
        "id": "AiISmQ1qCfhZ"
      },
      "source": [
        "## Python"
      ]
    },
    {
      "cell_type": "code",
      "execution_count": null,
      "metadata": {
        "colab": {
          "base_uri": "https://localhost:8080/"
        },
        "id": "L90ncwUOCfha",
        "outputId": "f6528c94-cfd7-4c9a-d1b7-f1ef90167ae4",
        "scrolled": true
      },
      "outputs": [
        {
          "data": {
            "text/plain": [
              "11"
            ]
          },
          "execution_count": 2,
          "metadata": {},
          "output_type": "execute_result"
        }
      ],
      "source": [
        "2+9"
      ]
    },
    {
      "cell_type": "code",
      "execution_count": null,
      "metadata": {
        "colab": {
          "base_uri": "https://localhost:8080/"
        },
        "id": "FmqQbffxCfhb",
        "outputId": "5b943133-f899-4b56-e56b-40e6b7e06fa1"
      },
      "outputs": [
        {
          "data": {
            "text/plain": [
              "18"
            ]
          },
          "execution_count": 3,
          "metadata": {},
          "output_type": "execute_result"
        }
      ],
      "source": [
        "2*9"
      ]
    },
    {
      "cell_type": "code",
      "execution_count": null,
      "metadata": {
        "colab": {
          "base_uri": "https://localhost:8080/"
        },
        "id": "ICw5ASWvCfhc",
        "outputId": "37b1b641-3d3d-4bf7-a80a-9e4e39d5bb70"
      },
      "outputs": [
        {
          "data": {
            "text/plain": [
              "0.2222222222222222"
            ]
          },
          "execution_count": 4,
          "metadata": {},
          "output_type": "execute_result"
        }
      ],
      "source": [
        "2/9"
      ]
    },
    {
      "cell_type": "code",
      "execution_count": null,
      "metadata": {
        "colab": {
          "base_uri": "https://localhost:8080/"
        },
        "id": "fSZycPE4Cfhd",
        "outputId": "f96aeff2-d18e-4918-eb2a-87d56041e7bf"
      },
      "outputs": [
        {
          "data": {
            "text/plain": [
              "29"
            ]
          },
          "execution_count": 5,
          "metadata": {},
          "output_type": "execute_result"
        }
      ],
      "source": [
        "2+3*9"
      ]
    },
    {
      "cell_type": "code",
      "execution_count": null,
      "metadata": {
        "colab": {
          "base_uri": "https://localhost:8080/"
        },
        "id": "mWbA2zmXCfhe",
        "outputId": "83d68538-1900-4075-e571-c3068182f535"
      },
      "outputs": [
        {
          "data": {
            "text/plain": [
              "45"
            ]
          },
          "execution_count": 6,
          "metadata": {},
          "output_type": "execute_result"
        }
      ],
      "source": [
        "(2+3)*9"
      ]
    },
    {
      "cell_type": "code",
      "execution_count": null,
      "metadata": {
        "colab": {
          "base_uri": "https://localhost:8080/"
        },
        "id": "gtbLL-1fCfhf",
        "outputId": "77352dca-4131-4084-f39c-39330a369deb"
      },
      "outputs": [
        {
          "data": {
            "text/plain": [
              "16"
            ]
          },
          "execution_count": 7,
          "metadata": {},
          "output_type": "execute_result"
        }
      ],
      "source": [
        "2**4"
      ]
    },
    {
      "cell_type": "code",
      "execution_count": null,
      "metadata": {
        "colab": {
          "base_uri": "https://localhost:8080/"
        },
        "id": "cEnrOBewCfhh",
        "outputId": "53f45b6a-1e4b-4237-a28d-9688f92db0e5"
      },
      "outputs": [
        {
          "data": {
            "text/plain": [
              "2861381721051424"
            ]
          },
          "execution_count": 8,
          "metadata": {},
          "output_type": "execute_result"
        }
      ],
      "source": [
        "1234**5"
      ]
    },
    {
      "cell_type": "code",
      "execution_count": null,
      "metadata": {
        "colab": {
          "base_uri": "https://localhost:8080/"
        },
        "id": "mSWn2R9aCfhi",
        "outputId": "747e818d-dd9c-4405-e599-aea2591a9f51"
      },
      "outputs": [
        {
          "data": {
            "text/plain": [
              "8501231189087579600089751361553790268770349244703297428875589625722666467029941104939346554618071090198338783086373718576302438541333303880149260355204961854660219348723703108817202816413695269234965947705916615090621461642947014634336709271250452147953400166273260278848909785635002746194627726905574383510586443855838501016194842546617466128367893005423946615632150875808229800489923121719324872322046242350358131209328011811786949525196068003065158218919856058009730366652388266762742312727811381080096679122681705212621121694449552467004319038040278415300031865815686537893832036302381576784433617023034776696420714876144485434646470579451349932122786555312581410798435527766468171805917233861943182867785949421920388024490545080852578054799518628169776648400272207657901368826628263954152902385783150069479202174698194137926647193941464878985158866033603990897827957922316614328503432155899763729601975377581454913801778657241584312797743187104615112990826170240576951377437889267043522178249238593031641469549941494342759976108330779190218175412454748751926927383394413538931340595895207489380533100158406056151193717830291989516050792698599824001271625788286400083430435996225870286728426044234538211907415368581834395718465999600878488008607312853910299621718948349669855888836854252419288825696064212121647849551877875083738702829751411930599999622761621401447136127241509252032463327323070454207230975720060696828143799024367860147672207189531148445363579822690090247426809033888593346224400489864273919166242548023881535680191207682155376847968733347385604276041283073347228803815405279998112938547949111103674653832147687792102357868703111192396677366147456000088224345337686711034275719530447049014275259015225178167345787860419429746163578689112295374153342313643102860000043435063407095232225814912427371973655639573401225553397831763058803538321076134083815415808878801086989396808453086722759516791817007120094624007835769308392692512292076325216213400980105527561077936336304777689856279268528402220160062365065232332591377102473934204006130311988805188979219655541468478726919818964117814118792374862057769846985070125485535437404289927188615185691222316241621215766939710853896856813203062169027816260494177289049365381215927091498601917056060292413725363696411243333025412074745992523902361942775529526536373496738092824403787110436969853611291705542181465577860684356486366860656165512948151524933949786531146417170299635082603757569302823079309642165775339529350073334016536451546540101287343407519182886572705773752090361182764058820258039372684336875330193457187912610800811194846692844413250373790522436208281266107102797113360495590669276174666003140785418373792534074610572841949732698528501261527844158885908948457093379372805804839434654279671107358129161157542389885838451898730060682856993779392841932975136525458784109035840416983298605830506319573271130742050796746857088239476285125701191400037072451731684223974010566859507243715790643657351235859756336513849858202588873634540023879638374295951524136236923423671632288707799796254804534131404379431231204837024857385154005913719311686092928666434917434354477753061030585428817582406313947343323157529985612660681069043858038046579763847037562570547171440108195495366373958169243521224322956620783733349921065284787807945332261864322729817303151806498733348746037759221592204992833243474043011524957764893686560384098274570957300202261186252832958713676112057045040733644861358757896798944561785532803162367117322209902786366770185404104429801771112839955437055146806182689958073760306881639356780211743597322337707273020574672167834903012765163624007144211187468411542572963939660561108419475949395174963273413868852896440947424344992179718533116562699371740484706235433706366240569083524185430700469547308694857964159760700105671073001697330585529109121954741220576828524401723676757794795250083720950267587758171582501191501189637061958522207031367402612571734076441860674863814099909712130609708832863842680889265436019725367744101582454551569091979679402651954509598343981143344994024597129576527297449562174131960128341530909092632992001197144131236990528338873298678869553075209034043170992884449709029653566942008795413009270598751643823365272644494325074303521000550383539517161018722764697822086046405563680718131405792201823465582572438557456336286618410630318761812534387255321583672541646660962378801475251590166471466595258572158876046780792443577415200699819116816418271779150023325969827619668356385379492002839104719856567779948453993844186649714112183836256341312617615482430806958408238575908083762936896619234237776772177583159411023017504636095926857331555009746884320121739186130195270017824024543589427772233432983995687775589752856045849787752136728977672421047044616632815386399888296637700670466401959263236561582055778310157915470795145143796474746725370125947980275952922826108308467662042757684610567756146778339591309122209612268095258943366473761985897845055573273671724348548111948847379270386151942239409617923808520510216097802516678970040346980188629443715890930465463804492890211575470612830497028489147272192585685947796464545671963309049439258226873022205625709886668321373234244538080578360227498200648921276375417069081994650310855296691342660962147412307971339042024827405215076215739687361592800757818100677910903440952002286261610473948573453158231294083861144427334581930023810856063221538294930635014609130296973666667250400981564887676855397430415734620826642403239301737465365417336571401497355640018224265552528893856056521264468754259331309642279938999221903924272554971643852022011765947996212275421355829319833800328694415760470248441144112841871615527949567756625459528865177363760130737703504794132062456639099091337141843043572787978733434533767453243181864529530929934401760870432704557779849641423060741199004298604891642184264851178483341038511090722342118873498635737236513496645110435204599001192882345052148291893842746068818312240423860644772035686748207737937330731621572971700220581785018809135077118524157304642073960556985963276791286503519409401480367890088946361913781598819528053807824965631154067173643125103000019765896220170024014812342911173525749157697106521016854161257203523551539146282300370830977932461995240936491993635236903476374429789840395960375345964220770757740813788095016860025483170158351625008006789547501818953994047994918103675713213055967165384541604370431719729029540602763131661822887630690333465610033516515270697981295995776262959098948330585272660656116144967043969319660080776468003023689115985109243276062032314681910559853467564899656051147313316756842800810181868551222821480948679861163616172872803379733777573623808254369599685925204412819323875134478075963684161339050209936379061691033728923807475379415465383025557131060414658886176518426741514818489971200170225002785660981724657558948045769491628137308892224722090788609018498931641698349882126634530850124893008580057089031262692083463530715246539201336162343861003837177762709976164318071419708304774305664605227779130500290518760514487016040637183163730234198931327443230999593434886642032992814007487335032806974334314990662466625794888753011718986752189306642732138825853045557198359478493270993059784423790507239915335903398454260951414810668775167179806613918334466769567939609524474423632422141023039679879483408186345079632030424648847689809026711978081947903438392563709001125646893456021779329424424779391528111421469044606843018300876897395445253306890783761645221940056043388634123454588562306648298749455465977490994025174143753890716103766476979322281404578206477815990052749373250814491832851401070336784979513392325916209262885168692951437735907647072682733715902663075844281947906218641163705685395625799623292587670381081867593848818401532773950884647720702232756097645658920981343899421959357485709585505642079957307512728772215176970128993781357535088567880197542751827341139496635440210208317403228610798745224471360337944308550142133138286140336310210850089257101302693168879798276317068290928736257745653176186634263625371050768240096814085244914326618850585890836001384575901572218127873576262084578014910630523386001475565908224331383474802859023718719809018774147780237944047759978503648153192059539387669322736137970901270986925571309053202739919849451419989108352494436091493296836597733009962614962179159515434257716856173580148874002318298867398237987853860624691033672798285297799458631626290930743534995014732949479703154773215759707098072956386620819003127062648282710469678832752591863293231815729342871660619327557813453247774415659664487688398388095064059490423294993680724278374893719707121254981307094206136913986007896643600161482658832611193920247780934685992417914322966559683642055990954449127160573199392785726754635905855890063412382560973517981021050866306970467833416093939036735381065118352779372161346180266532169488697592826225229385373913274120218966809788862391276736910500922056220340985502760020115819638073740142247532804189017916769440211768994106186308752573719640071345233546773059430518424802367019060759411971955555783765928607321193807028182756584732165717947363836080443779104166099782053802892628426215105575437380575443970807930406429163847227208533516658172008981465870536417992534247869119054571725907031834192238976492462505188434925894284571802135891728461342192904519589748852378897993698002054987272239157980707384539293328406316786051257031276357363596121261371194514622932562625671032070170342014101299531464179007267091513529777800064039808987054298298686823438306885272747323730018071591283348858301520324446652833200656025652139439018968767445890277163242883795493226841395882873453066890758393808352377348137064155139165313796843738357495546901771274019801674136096948056418764420940226231277775442295382059919190325369174324707812524303352519068027684868978718371087463218055693256066300632651127553795883044234715579987402265384978881813429005659612240390356325241"
            ]
          },
          "execution_count": 9,
          "metadata": {},
          "output_type": "execute_result"
        }
      ],
      "source": [
        "123456789**1234"
      ]
    },
    {
      "cell_type": "code",
      "execution_count": null,
      "metadata": {
        "id": "atKQR7HqK4uk"
      },
      "outputs": [],
      "source": []
    },
    {
      "cell_type": "code",
      "execution_count": null,
      "metadata": {
        "colab": {
          "base_uri": "https://localhost:8080/",
          "height": 35
        },
        "id": "E13VLUGaCfhj",
        "outputId": "9b9c898d-289d-44c6-bf26-ceeefcc358dc"
      },
      "outputs": [
        {
          "data": {
            "application/vnd.google.colaboratory.intrinsic+json": {
              "type": "string"
            },
            "text/plain": [
              "'hello'"
            ]
          },
          "execution_count": 10,
          "metadata": {},
          "output_type": "execute_result"
        }
      ],
      "source": [
        "'hello'"
      ]
    },
    {
      "cell_type": "markdown",
      "metadata": {
        "id": "7p6dxPsZCfhj"
      },
      "source": [
        "## Names"
      ]
    },
    {
      "cell_type": "code",
      "execution_count": null,
      "metadata": {
        "id": "x72bnpEnCfhk"
      },
      "outputs": [],
      "source": [
        "a = 4"
      ]
    },
    {
      "cell_type": "code",
      "execution_count": null,
      "metadata": {
        "colab": {
          "base_uri": "https://localhost:8080/"
        },
        "id": "C_5fdpFjCfhk",
        "outputId": "e1d1786f-2cf1-46d7-f7e1-b513fbda338c"
      },
      "outputs": [
        {
          "data": {
            "text/plain": [
              "4"
            ]
          },
          "execution_count": 12,
          "metadata": {},
          "output_type": "execute_result"
        }
      ],
      "source": [
        "a"
      ]
    },
    {
      "cell_type": "code",
      "execution_count": null,
      "metadata": {
        "id": "i1TRLqRfCfhl"
      },
      "outputs": [],
      "source": [
        "b = 9"
      ]
    },
    {
      "cell_type": "code",
      "execution_count": null,
      "metadata": {
        "colab": {
          "base_uri": "https://localhost:8080/"
        },
        "id": "lBoAWhV3Cfhm",
        "outputId": "a2b512d1-8d70-4f0f-80e1-415edfccc262"
      },
      "outputs": [
        {
          "data": {
            "text/plain": [
              "9"
            ]
          },
          "execution_count": 14,
          "metadata": {},
          "output_type": "execute_result"
        }
      ],
      "source": [
        "b"
      ]
    },
    {
      "cell_type": "code",
      "execution_count": null,
      "metadata": {
        "colab": {
          "base_uri": "https://localhost:8080/"
        },
        "id": "PrXqZlB4Cfhn",
        "outputId": "609a67f1-9659-460d-bd5b-58b49682a755"
      },
      "outputs": [
        {
          "data": {
            "text/plain": [
              "12"
            ]
          },
          "execution_count": 15,
          "metadata": {},
          "output_type": "execute_result"
        }
      ],
      "source": [
        "a*3"
      ]
    },
    {
      "cell_type": "code",
      "execution_count": null,
      "metadata": {
        "id": "bKoqJB0oCfho"
      },
      "outputs": [],
      "source": [
        "total = a+b"
      ]
    },
    {
      "cell_type": "code",
      "execution_count": null,
      "metadata": {
        "colab": {
          "base_uri": "https://localhost:8080/"
        },
        "id": "eaYrY1WmCfho",
        "outputId": "aa17e727-8846-497b-d5e7-b04c05db23f1",
        "scrolled": true
      },
      "outputs": [
        {
          "data": {
            "text/plain": [
              "13"
            ]
          },
          "execution_count": 17,
          "metadata": {},
          "output_type": "execute_result"
        }
      ],
      "source": [
        "total"
      ]
    },
    {
      "cell_type": "code",
      "execution_count": null,
      "metadata": {
        "id": "LwJwq2-QCfho"
      },
      "outputs": [],
      "source": [
        "a = 10"
      ]
    },
    {
      "cell_type": "code",
      "execution_count": null,
      "metadata": {
        "colab": {
          "base_uri": "https://localhost:8080/"
        },
        "id": "KagPslADCfhp",
        "outputId": "9a91b107-b5d4-488f-9e11-92fc63e1c531"
      },
      "outputs": [
        {
          "data": {
            "text/plain": [
              "13"
            ]
          },
          "execution_count": 19,
          "metadata": {},
          "output_type": "execute_result"
        }
      ],
      "source": [
        "total"
      ]
    },
    {
      "cell_type": "code",
      "execution_count": null,
      "metadata": {
        "id": "-yyRicFQCfhp"
      },
      "outputs": [],
      "source": [
        "total = a+b"
      ]
    },
    {
      "cell_type": "code",
      "execution_count": null,
      "metadata": {
        "colab": {
          "base_uri": "https://localhost:8080/"
        },
        "id": "ZCScPCO1Cfhp",
        "outputId": "4bac49cc-f788-43fc-95a2-3ced15759362"
      },
      "outputs": [
        {
          "data": {
            "text/plain": [
              "19"
            ]
          },
          "execution_count": 21,
          "metadata": {},
          "output_type": "execute_result"
        }
      ],
      "source": [
        "total"
      ]
    },
    {
      "cell_type": "code",
      "execution_count": null,
      "metadata": {
        "colab": {
          "base_uri": "https://localhost:8080/",
          "height": 35
        },
        "id": "jQCwEN9GCfhq",
        "outputId": "0aa17396-ba88-43a5-8639-bd31774d9b86"
      },
      "outputs": [
        {
          "data": {
            "application/vnd.google.colaboratory.intrinsic+json": {
              "type": "string"
            },
            "text/plain": [
              "'total'"
            ]
          },
          "execution_count": 22,
          "metadata": {},
          "output_type": "execute_result"
        }
      ],
      "source": [
        "'total'"
      ]
    },
    {
      "cell_type": "markdown",
      "metadata": {
        "id": "Q4HcDA7lCfhq"
      },
      "source": [
        "## Why Names?"
      ]
    },
    {
      "cell_type": "code",
      "execution_count": null,
      "metadata": {
        "id": "CBlqqExdCfhq"
      },
      "outputs": [],
      "source": [
        "hours_per_week = 40\n",
        "weeks_per_year = 52"
      ]
    },
    {
      "cell_type": "code",
      "execution_count": null,
      "metadata": {
        "id": "EOCqMirkCfhq"
      },
      "outputs": [],
      "source": [
        "hours_per_year = hours_per_week*weeks_per_year"
      ]
    },
    {
      "cell_type": "code",
      "execution_count": null,
      "metadata": {
        "id": "_jMLa19FCfhq"
      },
      "outputs": [],
      "source": [
        "hours_per_year"
      ]
    },
    {
      "cell_type": "code",
      "execution_count": null,
      "metadata": {
        "id": "fnTtk9l3Cfhr"
      },
      "outputs": [],
      "source": [
        "nc_hourly_minimum_wage = 7.25"
      ]
    },
    {
      "cell_type": "code",
      "execution_count": null,
      "metadata": {
        "colab": {
          "base_uri": "https://localhost:8080/"
        },
        "id": "nJlT7qcXCfhr",
        "outputId": "fc71caaa-9e14-4f95-ab99-c8cf4b4fa291"
      },
      "outputs": [
        {
          "data": {
            "text/plain": [
              "290.0"
            ]
          },
          "execution_count": 26,
          "metadata": {},
          "output_type": "execute_result"
        }
      ],
      "source": [
        "weekly_wages = hours_per_week*nc_hourly_minimum_wage\n",
        "weekly_wages"
      ]
    },
    {
      "cell_type": "code",
      "execution_count": null,
      "metadata": {
        "colab": {
          "base_uri": "https://localhost:8080/"
        },
        "id": "UfljRFpNCfhr",
        "outputId": "5d62c68b-1cff-4b77-901e-fcb08f5ec2ea"
      },
      "outputs": [
        {
          "data": {
            "text/plain": [
              "15080.0"
            ]
          },
          "execution_count": 27,
          "metadata": {},
          "output_type": "execute_result"
        }
      ],
      "source": [
        "yearly_wages = hours_per_year*nc_hourly_minimum_wage\n",
        "yearly_wages"
      ]
    },
    {
      "cell_type": "code",
      "execution_count": null,
      "metadata": {
        "colab": {
          "base_uri": "https://localhost:8080/"
        },
        "id": "HqkE9B4TCfhr",
        "outputId": "107cfe5f-b37e-4c17-da2b-59dfea4e9227"
      },
      "outputs": [
        {
          "data": {
            "text/plain": [
              "290.0"
            ]
          },
          "execution_count": 28,
          "metadata": {},
          "output_type": "execute_result"
        }
      ],
      "source": [
        "40*7.25"
      ]
    },
    {
      "cell_type": "code",
      "execution_count": null,
      "metadata": {
        "colab": {
          "base_uri": "https://localhost:8080/"
        },
        "id": "iSepSvrOCfhr",
        "outputId": "24a7734d-4267-4e65-fac8-eb493bc78b98"
      },
      "outputs": [
        {
          "data": {
            "text/plain": [
              "15080.0"
            ]
          },
          "execution_count": 29,
          "metadata": {},
          "output_type": "execute_result"
        }
      ],
      "source": [
        "40*52*7.25"
      ]
    },
    {
      "cell_type": "markdown",
      "metadata": {
        "id": "dl26Bw77Cfhs"
      },
      "source": [
        "## Functions and Call Expressions"
      ]
    },
    {
      "cell_type": "code",
      "execution_count": null,
      "metadata": {
        "colab": {
          "base_uri": "https://localhost:8080/"
        },
        "id": "tyvOyINVCfhs",
        "outputId": "7209c2c4-0ba4-4e25-f5cc-1b2f841d4cb1"
      },
      "outputs": [
        {
          "data": {
            "text/plain": [
              "5"
            ]
          },
          "execution_count": 30,
          "metadata": {},
          "output_type": "execute_result"
        }
      ],
      "source": [
        "abs(-5)"
      ]
    },
    {
      "cell_type": "code",
      "execution_count": null,
      "metadata": {
        "colab": {
          "base_uri": "https://localhost:8080/"
        },
        "id": "g9thQeGSCfhs",
        "outputId": "42ad4b8f-9bec-4696-957f-ccf2905804ce"
      },
      "outputs": [
        {
          "data": {
            "text/plain": [
              "2"
            ]
          },
          "execution_count": 31,
          "metadata": {},
          "output_type": "execute_result"
        }
      ],
      "source": [
        "abs(1-3)"
      ]
    },
    {
      "cell_type": "code",
      "execution_count": null,
      "metadata": {
        "colab": {
          "base_uri": "https://localhost:8080/"
        },
        "id": "VO2xKnXLCfhs",
        "outputId": "a4130c45-841a-49c6-c348-63c6a2e41912"
      },
      "outputs": [
        {
          "data": {
            "text/plain": [
              "5"
            ]
          },
          "execution_count": 32,
          "metadata": {},
          "output_type": "execute_result"
        }
      ],
      "source": [
        "day_temp = 52\n",
        "night_temp = 47\n",
        "abs(night_temp-day_temp)"
      ]
    },
    {
      "cell_type": "code",
      "execution_count": null,
      "metadata": {
        "colab": {
          "base_uri": "https://localhost:8080/"
        },
        "id": "GrBQ-iM9Cfht",
        "outputId": "0b8636b5-44ee-4d64-eb60-0c32e528b0b5"
      },
      "outputs": [
        {
          "data": {
            "text/plain": [
              "14"
            ]
          },
          "execution_count": 33,
          "metadata": {},
          "output_type": "execute_result"
        }
      ],
      "source": [
        "min(14, 15)"
      ]
    },
    {
      "cell_type": "code",
      "execution_count": null,
      "metadata": {
        "colab": {
          "base_uri": "https://localhost:8080/"
        },
        "id": "DhIwE79uCfht",
        "outputId": "d8cef2c3-5ab3-457d-f4ba-f137e20cf303"
      },
      "outputs": [
        {
          "data": {
            "text/plain": [
              "123"
            ]
          },
          "execution_count": 34,
          "metadata": {},
          "output_type": "execute_result"
        }
      ],
      "source": [
        "round(123.456)"
      ]
    },
    {
      "cell_type": "code",
      "execution_count": null,
      "metadata": {
        "colab": {
          "base_uri": "https://localhost:8080/"
        },
        "id": "BFAuvaB6Cfht",
        "outputId": "f0dfb905-2375-42b3-ae52-3d3a2f82ac10"
      },
      "outputs": [
        {
          "data": {
            "text/plain": [
              "123.5"
            ]
          },
          "execution_count": 35,
          "metadata": {},
          "output_type": "execute_result"
        }
      ],
      "source": [
        "round(123.456, 1)"
      ]
    },
    {
      "cell_type": "code",
      "execution_count": null,
      "metadata": {
        "colab": {
          "base_uri": "https://localhost:8080/"
        },
        "id": "NWQwW-8yCfht",
        "outputId": "55f3304b-2830-4e83-8261-d0d3ad083eb4"
      },
      "outputs": [
        {
          "data": {
            "text/plain": [
              "123.5"
            ]
          },
          "execution_count": 36,
          "metadata": {},
          "output_type": "execute_result"
        }
      ],
      "source": [
        "round(123.456, ndigits=1)"
      ]
    },
    {
      "cell_type": "markdown",
      "metadata": {
        "id": "gzRTNXPsCfht"
      },
      "source": [
        "## Tables\n",
        "\n",
        "The [datascience](http://data8.org/datascience/) package was written for use in UC Berkeley’s Data Science 8 course and contains useful functionality for investigating and graphically displaying data. The [table](http://data8.org/datascience/tables.html) object is a rectangular container with rows (observations) and columns (features) that is used to store data."
      ]
    },
    {
      "cell_type": "markdown",
      "metadata": {
        "id": "xxsV1dYbpXmL"
      },
      "source": [
        "Use the following cell to import the cones.csv data that you downloaded from the shared Google drive."
      ]
    },
    {
      "cell_type": "code",
      "execution_count": null,
      "metadata": {
        "colab": {
          "background_save": true,
          "base_uri": "https://localhost:8080/",
          "height": 39
        },
        "id": "w7JDrG2lJEfi",
        "outputId": "ec312e75-adf8-488d-fe80-d08df92f52cc"
      },
      "outputs": [
        {
          "output_type": "display_data",
          "data": {
            "text/plain": [
              "<IPython.core.display.HTML object>"
            ],
            "text/html": [
              "\n",
              "     <input type=\"file\" id=\"files-02b57987-9d0e-4f58-9eb9-b092c4ba4f82\" name=\"files[]\" multiple disabled\n",
              "        style=\"border:none\" />\n",
              "     <output id=\"result-02b57987-9d0e-4f58-9eb9-b092c4ba4f82\">\n",
              "      Upload widget is only available when the cell has been executed in the\n",
              "      current browser session. Please rerun this cell to enable.\n",
              "      </output>\n",
              "      <script>// Copyright 2017 Google LLC\n",
              "//\n",
              "// Licensed under the Apache License, Version 2.0 (the \"License\");\n",
              "// you may not use this file except in compliance with the License.\n",
              "// You may obtain a copy of the License at\n",
              "//\n",
              "//      http://www.apache.org/licenses/LICENSE-2.0\n",
              "//\n",
              "// Unless required by applicable law or agreed to in writing, software\n",
              "// distributed under the License is distributed on an \"AS IS\" BASIS,\n",
              "// WITHOUT WARRANTIES OR CONDITIONS OF ANY KIND, either express or implied.\n",
              "// See the License for the specific language governing permissions and\n",
              "// limitations under the License.\n",
              "\n",
              "/**\n",
              " * @fileoverview Helpers for google.colab Python module.\n",
              " */\n",
              "(function(scope) {\n",
              "function span(text, styleAttributes = {}) {\n",
              "  const element = document.createElement('span');\n",
              "  element.textContent = text;\n",
              "  for (const key of Object.keys(styleAttributes)) {\n",
              "    element.style[key] = styleAttributes[key];\n",
              "  }\n",
              "  return element;\n",
              "}\n",
              "\n",
              "// Max number of bytes which will be uploaded at a time.\n",
              "const MAX_PAYLOAD_SIZE = 100 * 1024;\n",
              "\n",
              "function _uploadFiles(inputId, outputId) {\n",
              "  const steps = uploadFilesStep(inputId, outputId);\n",
              "  const outputElement = document.getElementById(outputId);\n",
              "  // Cache steps on the outputElement to make it available for the next call\n",
              "  // to uploadFilesContinue from Python.\n",
              "  outputElement.steps = steps;\n",
              "\n",
              "  return _uploadFilesContinue(outputId);\n",
              "}\n",
              "\n",
              "// This is roughly an async generator (not supported in the browser yet),\n",
              "// where there are multiple asynchronous steps and the Python side is going\n",
              "// to poll for completion of each step.\n",
              "// This uses a Promise to block the python side on completion of each step,\n",
              "// then passes the result of the previous step as the input to the next step.\n",
              "function _uploadFilesContinue(outputId) {\n",
              "  const outputElement = document.getElementById(outputId);\n",
              "  const steps = outputElement.steps;\n",
              "\n",
              "  const next = steps.next(outputElement.lastPromiseValue);\n",
              "  return Promise.resolve(next.value.promise).then((value) => {\n",
              "    // Cache the last promise value to make it available to the next\n",
              "    // step of the generator.\n",
              "    outputElement.lastPromiseValue = value;\n",
              "    return next.value.response;\n",
              "  });\n",
              "}\n",
              "\n",
              "/**\n",
              " * Generator function which is called between each async step of the upload\n",
              " * process.\n",
              " * @param {string} inputId Element ID of the input file picker element.\n",
              " * @param {string} outputId Element ID of the output display.\n",
              " * @return {!Iterable<!Object>} Iterable of next steps.\n",
              " */\n",
              "function* uploadFilesStep(inputId, outputId) {\n",
              "  const inputElement = document.getElementById(inputId);\n",
              "  inputElement.disabled = false;\n",
              "\n",
              "  const outputElement = document.getElementById(outputId);\n",
              "  outputElement.innerHTML = '';\n",
              "\n",
              "  const pickedPromise = new Promise((resolve) => {\n",
              "    inputElement.addEventListener('change', (e) => {\n",
              "      resolve(e.target.files);\n",
              "    });\n",
              "  });\n",
              "\n",
              "  const cancel = document.createElement('button');\n",
              "  inputElement.parentElement.appendChild(cancel);\n",
              "  cancel.textContent = 'Cancel upload';\n",
              "  const cancelPromise = new Promise((resolve) => {\n",
              "    cancel.onclick = () => {\n",
              "      resolve(null);\n",
              "    };\n",
              "  });\n",
              "\n",
              "  // Wait for the user to pick the files.\n",
              "  const files = yield {\n",
              "    promise: Promise.race([pickedPromise, cancelPromise]),\n",
              "    response: {\n",
              "      action: 'starting',\n",
              "    }\n",
              "  };\n",
              "\n",
              "  cancel.remove();\n",
              "\n",
              "  // Disable the input element since further picks are not allowed.\n",
              "  inputElement.disabled = true;\n",
              "\n",
              "  if (!files) {\n",
              "    return {\n",
              "      response: {\n",
              "        action: 'complete',\n",
              "      }\n",
              "    };\n",
              "  }\n",
              "\n",
              "  for (const file of files) {\n",
              "    const li = document.createElement('li');\n",
              "    li.append(span(file.name, {fontWeight: 'bold'}));\n",
              "    li.append(span(\n",
              "        `(${file.type || 'n/a'}) - ${file.size} bytes, ` +\n",
              "        `last modified: ${\n",
              "            file.lastModifiedDate ? file.lastModifiedDate.toLocaleDateString() :\n",
              "                                    'n/a'} - `));\n",
              "    const percent = span('0% done');\n",
              "    li.appendChild(percent);\n",
              "\n",
              "    outputElement.appendChild(li);\n",
              "\n",
              "    const fileDataPromise = new Promise((resolve) => {\n",
              "      const reader = new FileReader();\n",
              "      reader.onload = (e) => {\n",
              "        resolve(e.target.result);\n",
              "      };\n",
              "      reader.readAsArrayBuffer(file);\n",
              "    });\n",
              "    // Wait for the data to be ready.\n",
              "    let fileData = yield {\n",
              "      promise: fileDataPromise,\n",
              "      response: {\n",
              "        action: 'continue',\n",
              "      }\n",
              "    };\n",
              "\n",
              "    // Use a chunked sending to avoid message size limits. See b/62115660.\n",
              "    let position = 0;\n",
              "    do {\n",
              "      const length = Math.min(fileData.byteLength - position, MAX_PAYLOAD_SIZE);\n",
              "      const chunk = new Uint8Array(fileData, position, length);\n",
              "      position += length;\n",
              "\n",
              "      const base64 = btoa(String.fromCharCode.apply(null, chunk));\n",
              "      yield {\n",
              "        response: {\n",
              "          action: 'append',\n",
              "          file: file.name,\n",
              "          data: base64,\n",
              "        },\n",
              "      };\n",
              "\n",
              "      let percentDone = fileData.byteLength === 0 ?\n",
              "          100 :\n",
              "          Math.round((position / fileData.byteLength) * 100);\n",
              "      percent.textContent = `${percentDone}% done`;\n",
              "\n",
              "    } while (position < fileData.byteLength);\n",
              "  }\n",
              "\n",
              "  // All done.\n",
              "  yield {\n",
              "    response: {\n",
              "      action: 'complete',\n",
              "    }\n",
              "  };\n",
              "}\n",
              "\n",
              "scope.google = scope.google || {};\n",
              "scope.google.colab = scope.google.colab || {};\n",
              "scope.google.colab._files = {\n",
              "  _uploadFiles,\n",
              "  _uploadFilesContinue,\n",
              "};\n",
              "})(self);\n",
              "</script> "
            ]
          },
          "metadata": {}
        }
      ],
      "source": [
        "from google.colab import files\n",
        "\n",
        "uploaded = files.upload()\n",
        "\n"
      ]
    },
    {
      "cell_type": "code",
      "execution_count": null,
      "metadata": {
        "colab": {
          "base_uri": "https://localhost:8080/",
          "height": 238
        },
        "id": "KRckNzTvCfhu",
        "outputId": "cf8e0d5d-a7de-42dc-d1b6-df682ebfdc1c"
      },
      "outputs": [
        {
          "data": {
            "text/html": [
              "<table border=\"1\" class=\"dataframe\">\n",
              "    <thead>\n",
              "        <tr>\n",
              "            <th>Flavor</th> <th>Color</th> <th>Price</th>\n",
              "        </tr>\n",
              "    </thead>\n",
              "    <tbody>\n",
              "        <tr>\n",
              "            <td>strawberry</td> <td>pink       </td> <td>3.55 </td>\n",
              "        </tr>\n",
              "        <tr>\n",
              "            <td>chocolate </td> <td>light brown</td> <td>4.75 </td>\n",
              "        </tr>\n",
              "        <tr>\n",
              "            <td>chocolate </td> <td>dark brown </td> <td>5.25 </td>\n",
              "        </tr>\n",
              "        <tr>\n",
              "            <td>strawberry</td> <td>pink       </td> <td>5.25 </td>\n",
              "        </tr>\n",
              "        <tr>\n",
              "            <td>chocolate </td> <td>dark brown </td> <td>5.25 </td>\n",
              "        </tr>\n",
              "        <tr>\n",
              "            <td>bubblegum </td> <td>pink       </td> <td>4.75 </td>\n",
              "        </tr>\n",
              "    </tbody>\n",
              "</table>"
            ],
            "text/plain": [
              "Flavor     | Color       | Price\n",
              "strawberry | pink        | 3.55\n",
              "chocolate  | light brown | 4.75\n",
              "chocolate  | dark brown  | 5.25\n",
              "strawberry | pink        | 5.25\n",
              "chocolate  | dark brown  | 5.25\n",
              "bubblegum  | pink        | 4.75"
            ]
          },
          "execution_count": 38,
          "metadata": {},
          "output_type": "execute_result"
        }
      ],
      "source": [
        "cones = Table.read_table('cones.csv')\n",
        "cones"
      ]
    },
    {
      "cell_type": "code",
      "execution_count": null,
      "metadata": {
        "colab": {
          "base_uri": "https://localhost:8080/",
          "height": 141
        },
        "id": "Oc0Yd4IUCfhu",
        "outputId": "61365b09-a789-4fb1-fb31-d0a459a9920e"
      },
      "outputs": [
        {
          "data": {
            "text/html": [
              "<table border=\"1\" class=\"dataframe\">\n",
              "    <thead>\n",
              "        <tr>\n",
              "            <th>Flavor</th> <th>Color</th> <th>Price</th>\n",
              "        </tr>\n",
              "    </thead>\n",
              "    <tbody>\n",
              "        <tr>\n",
              "            <td>strawberry</td> <td>pink       </td> <td>3.55 </td>\n",
              "        </tr>\n",
              "        <tr>\n",
              "            <td>chocolate </td> <td>light brown</td> <td>4.75 </td>\n",
              "        </tr>\n",
              "    </tbody>\n",
              "</table>\n",
              "<p>... (4 rows omitted)</p>"
            ],
            "text/plain": [
              "<IPython.core.display.HTML object>"
            ]
          },
          "metadata": {},
          "output_type": "display_data"
        }
      ],
      "source": [
        "cones.show(2)"
      ]
    },
    {
      "cell_type": "markdown",
      "metadata": {
        "id": "I3qSRWO4Cfhu"
      },
      "source": [
        "### Never Ever Ever Ever do This\n",
        "\n",
        "```\n",
        "cones.show()\n",
        "```"
      ]
    },
    {
      "cell_type": "code",
      "execution_count": null,
      "metadata": {
        "colab": {
          "base_uri": "https://localhost:8080/",
          "height": 238
        },
        "id": "x__EygrSCfhu",
        "outputId": "57acabca-2e5e-4dd8-e05b-dc52c947aebe"
      },
      "outputs": [
        {
          "data": {
            "text/html": [
              "<table border=\"1\" class=\"dataframe\">\n",
              "    <thead>\n",
              "        <tr>\n",
              "            <th>Flavor</th>\n",
              "        </tr>\n",
              "    </thead>\n",
              "    <tbody>\n",
              "        <tr>\n",
              "            <td>strawberry</td>\n",
              "        </tr>\n",
              "        <tr>\n",
              "            <td>chocolate </td>\n",
              "        </tr>\n",
              "        <tr>\n",
              "            <td>chocolate </td>\n",
              "        </tr>\n",
              "        <tr>\n",
              "            <td>strawberry</td>\n",
              "        </tr>\n",
              "        <tr>\n",
              "            <td>chocolate </td>\n",
              "        </tr>\n",
              "        <tr>\n",
              "            <td>bubblegum </td>\n",
              "        </tr>\n",
              "    </tbody>\n",
              "</table>"
            ],
            "text/plain": [
              "Flavor\n",
              "strawberry\n",
              "chocolate\n",
              "chocolate\n",
              "strawberry\n",
              "chocolate\n",
              "bubblegum"
            ]
          },
          "execution_count": 40,
          "metadata": {},
          "output_type": "execute_result"
        }
      ],
      "source": [
        "cones.select('Flavor')"
      ]
    },
    {
      "cell_type": "code",
      "execution_count": null,
      "metadata": {
        "colab": {
          "base_uri": "https://localhost:8080/",
          "height": 238
        },
        "id": "xlRatufcCfhv",
        "outputId": "c49b2510-9200-4e82-d41a-d641485e5135"
      },
      "outputs": [
        {
          "data": {
            "text/html": [
              "<table border=\"1\" class=\"dataframe\">\n",
              "    <thead>\n",
              "        <tr>\n",
              "            <th>Flavor</th> <th>Price</th>\n",
              "        </tr>\n",
              "    </thead>\n",
              "    <tbody>\n",
              "        <tr>\n",
              "            <td>strawberry</td> <td>3.55 </td>\n",
              "        </tr>\n",
              "        <tr>\n",
              "            <td>chocolate </td> <td>4.75 </td>\n",
              "        </tr>\n",
              "        <tr>\n",
              "            <td>chocolate </td> <td>5.25 </td>\n",
              "        </tr>\n",
              "        <tr>\n",
              "            <td>strawberry</td> <td>5.25 </td>\n",
              "        </tr>\n",
              "        <tr>\n",
              "            <td>chocolate </td> <td>5.25 </td>\n",
              "        </tr>\n",
              "        <tr>\n",
              "            <td>bubblegum </td> <td>4.75 </td>\n",
              "        </tr>\n",
              "    </tbody>\n",
              "</table>"
            ],
            "text/plain": [
              "Flavor     | Price\n",
              "strawberry | 3.55\n",
              "chocolate  | 4.75\n",
              "chocolate  | 5.25\n",
              "strawberry | 5.25\n",
              "chocolate  | 5.25\n",
              "bubblegum  | 4.75"
            ]
          },
          "execution_count": 41,
          "metadata": {},
          "output_type": "execute_result"
        }
      ],
      "source": [
        "cones.select('Flavor', 'Price')"
      ]
    },
    {
      "cell_type": "code",
      "execution_count": null,
      "metadata": {
        "colab": {
          "base_uri": "https://localhost:8080/",
          "height": 169
        },
        "id": "KQ0H4GxxCfhv",
        "outputId": "18ad54cc-873e-4aac-c6e2-f0c5887c077e"
      },
      "outputs": [
        {
          "ename": "NameError",
          "evalue": "ignored",
          "output_type": "error",
          "traceback": [
            "\u001b[0;31m---------------------------------------------------------------------------\u001b[0m",
            "\u001b[0;31mNameError\u001b[0m                                 Traceback (most recent call last)",
            "\u001b[0;32m<ipython-input-42-90b78adc5c4e>\u001b[0m in \u001b[0;36m<module>\u001b[0;34m()\u001b[0m\n\u001b[0;32m----> 1\u001b[0;31m \u001b[0mcones\u001b[0m\u001b[0;34m.\u001b[0m\u001b[0mselect\u001b[0m\u001b[0;34m(\u001b[0m\u001b[0mFlavor\u001b[0m\u001b[0;34m,\u001b[0m \u001b[0;34m'Price'\u001b[0m\u001b[0;34m)\u001b[0m\u001b[0;34m\u001b[0m\u001b[0;34m\u001b[0m\u001b[0m\n\u001b[0m",
            "\u001b[0;31mNameError\u001b[0m: name 'Flavor' is not defined"
          ]
        }
      ],
      "source": [
        "cones.select(Flavor, 'Price')"
      ]
    },
    {
      "cell_type": "code",
      "execution_count": null,
      "metadata": {
        "colab": {
          "base_uri": "https://localhost:8080/",
          "height": 238
        },
        "id": "kDbgeBpDCfhv",
        "outputId": "2e80b521-a1da-468d-f10d-2f157e7ca663"
      },
      "outputs": [
        {
          "data": {
            "text/html": [
              "<table border=\"1\" class=\"dataframe\">\n",
              "    <thead>\n",
              "        <tr>\n",
              "            <th>Flavor</th> <th>Color</th>\n",
              "        </tr>\n",
              "    </thead>\n",
              "    <tbody>\n",
              "        <tr>\n",
              "            <td>strawberry</td> <td>pink       </td>\n",
              "        </tr>\n",
              "        <tr>\n",
              "            <td>chocolate </td> <td>light brown</td>\n",
              "        </tr>\n",
              "        <tr>\n",
              "            <td>chocolate </td> <td>dark brown </td>\n",
              "        </tr>\n",
              "        <tr>\n",
              "            <td>strawberry</td> <td>pink       </td>\n",
              "        </tr>\n",
              "        <tr>\n",
              "            <td>chocolate </td> <td>dark brown </td>\n",
              "        </tr>\n",
              "        <tr>\n",
              "            <td>bubblegum </td> <td>pink       </td>\n",
              "        </tr>\n",
              "    </tbody>\n",
              "</table>"
            ],
            "text/plain": [
              "Flavor     | Color\n",
              "strawberry | pink\n",
              "chocolate  | light brown\n",
              "chocolate  | dark brown\n",
              "strawberry | pink\n",
              "chocolate  | dark brown\n",
              "bubblegum  | pink"
            ]
          },
          "execution_count": 43,
          "metadata": {},
          "output_type": "execute_result"
        }
      ],
      "source": [
        "cones.drop('Price')"
      ]
    },
    {
      "cell_type": "code",
      "execution_count": null,
      "metadata": {
        "colab": {
          "base_uri": "https://localhost:8080/",
          "height": 238
        },
        "id": "0HVrJd_kCfhv",
        "outputId": "7aba81ac-218e-4275-fffa-992925e3900a"
      },
      "outputs": [
        {
          "data": {
            "text/html": [
              "<table border=\"1\" class=\"dataframe\">\n",
              "    <thead>\n",
              "        <tr>\n",
              "            <th>Flavor</th> <th>Color</th> <th>Price</th>\n",
              "        </tr>\n",
              "    </thead>\n",
              "    <tbody>\n",
              "        <tr>\n",
              "            <td>strawberry</td> <td>pink       </td> <td>3.55 </td>\n",
              "        </tr>\n",
              "        <tr>\n",
              "            <td>chocolate </td> <td>light brown</td> <td>4.75 </td>\n",
              "        </tr>\n",
              "        <tr>\n",
              "            <td>chocolate </td> <td>dark brown </td> <td>5.25 </td>\n",
              "        </tr>\n",
              "        <tr>\n",
              "            <td>strawberry</td> <td>pink       </td> <td>5.25 </td>\n",
              "        </tr>\n",
              "        <tr>\n",
              "            <td>chocolate </td> <td>dark brown </td> <td>5.25 </td>\n",
              "        </tr>\n",
              "        <tr>\n",
              "            <td>bubblegum </td> <td>pink       </td> <td>4.75 </td>\n",
              "        </tr>\n",
              "    </tbody>\n",
              "</table>"
            ],
            "text/plain": [
              "Flavor     | Color       | Price\n",
              "strawberry | pink        | 3.55\n",
              "chocolate  | light brown | 4.75\n",
              "chocolate  | dark brown  | 5.25\n",
              "strawberry | pink        | 5.25\n",
              "chocolate  | dark brown  | 5.25\n",
              "bubblegum  | pink        | 4.75"
            ]
          },
          "execution_count": 44,
          "metadata": {},
          "output_type": "execute_result"
        }
      ],
      "source": [
        "cones"
      ]
    },
    {
      "cell_type": "code",
      "execution_count": null,
      "metadata": {
        "colab": {
          "base_uri": "https://localhost:8080/",
          "height": 238
        },
        "id": "v2Gu762ECfhw",
        "outputId": "860265ed-dc86-4f3e-d924-32d307788a7b"
      },
      "outputs": [
        {
          "data": {
            "text/html": [
              "<table border=\"1\" class=\"dataframe\">\n",
              "    <thead>\n",
              "        <tr>\n",
              "            <th>Flavor</th> <th>Color</th>\n",
              "        </tr>\n",
              "    </thead>\n",
              "    <tbody>\n",
              "        <tr>\n",
              "            <td>strawberry</td> <td>pink       </td>\n",
              "        </tr>\n",
              "        <tr>\n",
              "            <td>chocolate </td> <td>light brown</td>\n",
              "        </tr>\n",
              "        <tr>\n",
              "            <td>chocolate </td> <td>dark brown </td>\n",
              "        </tr>\n",
              "        <tr>\n",
              "            <td>strawberry</td> <td>pink       </td>\n",
              "        </tr>\n",
              "        <tr>\n",
              "            <td>chocolate </td> <td>dark brown </td>\n",
              "        </tr>\n",
              "        <tr>\n",
              "            <td>bubblegum </td> <td>pink       </td>\n",
              "        </tr>\n",
              "    </tbody>\n",
              "</table>"
            ],
            "text/plain": [
              "Flavor     | Color\n",
              "strawberry | pink\n",
              "chocolate  | light brown\n",
              "chocolate  | dark brown\n",
              "strawberry | pink\n",
              "chocolate  | dark brown\n",
              "bubblegum  | pink"
            ]
          },
          "execution_count": 45,
          "metadata": {},
          "output_type": "execute_result"
        }
      ],
      "source": [
        "cones_without_price = cones.drop('Price')\n",
        "cones_without_price"
      ]
    },
    {
      "cell_type": "code",
      "execution_count": null,
      "metadata": {
        "colab": {
          "base_uri": "https://localhost:8080/",
          "height": 143
        },
        "id": "boTqY-piCfhw",
        "outputId": "547dabfd-c8ac-4744-af65-d665b29fc663",
        "scrolled": true
      },
      "outputs": [
        {
          "data": {
            "text/html": [
              "<table border=\"1\" class=\"dataframe\">\n",
              "    <thead>\n",
              "        <tr>\n",
              "            <th>Flavor</th> <th>Color</th> <th>Price</th>\n",
              "        </tr>\n",
              "    </thead>\n",
              "    <tbody>\n",
              "        <tr>\n",
              "            <td>chocolate</td> <td>light brown</td> <td>4.75 </td>\n",
              "        </tr>\n",
              "        <tr>\n",
              "            <td>chocolate</td> <td>dark brown </td> <td>5.25 </td>\n",
              "        </tr>\n",
              "        <tr>\n",
              "            <td>chocolate</td> <td>dark brown </td> <td>5.25 </td>\n",
              "        </tr>\n",
              "    </tbody>\n",
              "</table>"
            ],
            "text/plain": [
              "Flavor    | Color       | Price\n",
              "chocolate | light brown | 4.75\n",
              "chocolate | dark brown  | 5.25\n",
              "chocolate | dark brown  | 5.25"
            ]
          },
          "execution_count": 46,
          "metadata": {},
          "output_type": "execute_result"
        }
      ],
      "source": [
        "cones.where('Flavor', 'chocolate')"
      ]
    },
    {
      "cell_type": "code",
      "execution_count": null,
      "metadata": {
        "colab": {
          "base_uri": "https://localhost:8080/",
          "height": 238
        },
        "id": "BFwp62kUCfhw",
        "outputId": "8f07abe3-747b-4f15-b473-91fd01581354"
      },
      "outputs": [
        {
          "data": {
            "text/html": [
              "<table border=\"1\" class=\"dataframe\">\n",
              "    <thead>\n",
              "        <tr>\n",
              "            <th>Flavor</th> <th>Color</th> <th>Price</th>\n",
              "        </tr>\n",
              "    </thead>\n",
              "    <tbody>\n",
              "        <tr>\n",
              "            <td>strawberry</td> <td>pink       </td> <td>3.55 </td>\n",
              "        </tr>\n",
              "        <tr>\n",
              "            <td>chocolate </td> <td>light brown</td> <td>4.75 </td>\n",
              "        </tr>\n",
              "        <tr>\n",
              "            <td>bubblegum </td> <td>pink       </td> <td>4.75 </td>\n",
              "        </tr>\n",
              "        <tr>\n",
              "            <td>chocolate </td> <td>dark brown </td> <td>5.25 </td>\n",
              "        </tr>\n",
              "        <tr>\n",
              "            <td>strawberry</td> <td>pink       </td> <td>5.25 </td>\n",
              "        </tr>\n",
              "        <tr>\n",
              "            <td>chocolate </td> <td>dark brown </td> <td>5.25 </td>\n",
              "        </tr>\n",
              "    </tbody>\n",
              "</table>"
            ],
            "text/plain": [
              "Flavor     | Color       | Price\n",
              "strawberry | pink        | 3.55\n",
              "chocolate  | light brown | 4.75\n",
              "bubblegum  | pink        | 4.75\n",
              "chocolate  | dark brown  | 5.25\n",
              "strawberry | pink        | 5.25\n",
              "chocolate  | dark brown  | 5.25"
            ]
          },
          "execution_count": 47,
          "metadata": {},
          "output_type": "execute_result"
        }
      ],
      "source": [
        "cones.sort('Price')"
      ]
    },
    {
      "cell_type": "code",
      "execution_count": null,
      "metadata": {
        "colab": {
          "base_uri": "https://localhost:8080/",
          "height": 238
        },
        "id": "pl95SMdgCfhw",
        "outputId": "d27ff006-7cd6-420d-eb96-aec24cc053a0",
        "scrolled": true
      },
      "outputs": [
        {
          "data": {
            "text/html": [
              "<table border=\"1\" class=\"dataframe\">\n",
              "    <thead>\n",
              "        <tr>\n",
              "            <th>Flavor</th> <th>Color</th> <th>Price</th>\n",
              "        </tr>\n",
              "    </thead>\n",
              "    <tbody>\n",
              "        <tr>\n",
              "            <td>chocolate </td> <td>dark brown </td> <td>5.25 </td>\n",
              "        </tr>\n",
              "        <tr>\n",
              "            <td>strawberry</td> <td>pink       </td> <td>5.25 </td>\n",
              "        </tr>\n",
              "        <tr>\n",
              "            <td>chocolate </td> <td>dark brown </td> <td>5.25 </td>\n",
              "        </tr>\n",
              "        <tr>\n",
              "            <td>chocolate </td> <td>light brown</td> <td>4.75 </td>\n",
              "        </tr>\n",
              "        <tr>\n",
              "            <td>bubblegum </td> <td>pink       </td> <td>4.75 </td>\n",
              "        </tr>\n",
              "        <tr>\n",
              "            <td>strawberry</td> <td>pink       </td> <td>3.55 </td>\n",
              "        </tr>\n",
              "    </tbody>\n",
              "</table>"
            ],
            "text/plain": [
              "Flavor     | Color       | Price\n",
              "chocolate  | dark brown  | 5.25\n",
              "strawberry | pink        | 5.25\n",
              "chocolate  | dark brown  | 5.25\n",
              "chocolate  | light brown | 4.75\n",
              "bubblegum  | pink        | 4.75\n",
              "strawberry | pink        | 3.55"
            ]
          },
          "execution_count": 48,
          "metadata": {},
          "output_type": "execute_result"
        }
      ],
      "source": [
        "cones.sort('Price', descending=True)"
      ]
    },
    {
      "cell_type": "code",
      "execution_count": null,
      "metadata": {
        "colab": {
          "base_uri": "https://localhost:8080/",
          "height": 238
        },
        "id": "gIPrlkf4Cfhw",
        "outputId": "716b2993-ea61-4fa0-afc9-eb067ad813ff"
      },
      "outputs": [
        {
          "data": {
            "text/html": [
              "<table border=\"1\" class=\"dataframe\">\n",
              "    <thead>\n",
              "        <tr>\n",
              "            <th>Flavor</th> <th>Color</th> <th>Price</th>\n",
              "        </tr>\n",
              "    </thead>\n",
              "    <tbody>\n",
              "        <tr>\n",
              "            <td>strawberry</td> <td>pink       </td> <td>3.55 </td>\n",
              "        </tr>\n",
              "        <tr>\n",
              "            <td>strawberry</td> <td>pink       </td> <td>5.25 </td>\n",
              "        </tr>\n",
              "        <tr>\n",
              "            <td>chocolate </td> <td>light brown</td> <td>4.75 </td>\n",
              "        </tr>\n",
              "        <tr>\n",
              "            <td>chocolate </td> <td>dark brown </td> <td>5.25 </td>\n",
              "        </tr>\n",
              "        <tr>\n",
              "            <td>chocolate </td> <td>dark brown </td> <td>5.25 </td>\n",
              "        </tr>\n",
              "        <tr>\n",
              "            <td>bubblegum </td> <td>pink       </td> <td>4.75 </td>\n",
              "        </tr>\n",
              "    </tbody>\n",
              "</table>"
            ],
            "text/plain": [
              "Flavor     | Color       | Price\n",
              "strawberry | pink        | 3.55\n",
              "strawberry | pink        | 5.25\n",
              "chocolate  | light brown | 4.75\n",
              "chocolate  | dark brown  | 5.25\n",
              "chocolate  | dark brown  | 5.25\n",
              "bubblegum  | pink        | 4.75"
            ]
          },
          "execution_count": 49,
          "metadata": {},
          "output_type": "execute_result"
        }
      ],
      "source": [
        "cones.sort('Flavor', descending=True)"
      ]
    },
    {
      "cell_type": "markdown",
      "metadata": {
        "id": "wBBwOrSnCfhx"
      },
      "source": [
        "## A More Interesting Table"
      ]
    },
    {
      "cell_type": "markdown",
      "metadata": {
        "id": "yrjjfcMcpxyT"
      },
      "source": [
        "Use the following cell to import the skyscrapers.csv data that you downloaded from the shared Google drive."
      ]
    },
    {
      "cell_type": "code",
      "execution_count": null,
      "metadata": {
        "colab": {
          "base_uri": "https://localhost:8080/",
          "height": 74,
          "resources": {
            "http://localhost:8080/nbextensions/google.colab/files.js": {
              "data": "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",
              "headers": [
                [
                  "content-type",
                  "application/javascript"
                ]
              ],
              "ok": true,
              "status": 200,
              "status_text": ""
            }
          }
        },
        "id": "JasDyAylp5IC",
        "outputId": "2da0a7c6-7907-4e7f-8217-90d9f8a49b41"
      },
      "outputs": [
        {
          "data": {
            "text/html": [
              "\n",
              "     <input type=\"file\" id=\"files-6c6f70b5-a602-47d1-bfe9-7803837d5236\" name=\"files[]\" multiple disabled\n",
              "        style=\"border:none\" />\n",
              "     <output id=\"result-6c6f70b5-a602-47d1-bfe9-7803837d5236\">\n",
              "      Upload widget is only available when the cell has been executed in the\n",
              "      current browser session. Please rerun this cell to enable.\n",
              "      </output>\n",
              "      <script src=\"/nbextensions/google.colab/files.js\"></script> "
            ],
            "text/plain": [
              "<IPython.core.display.HTML object>"
            ]
          },
          "metadata": {},
          "output_type": "display_data"
        },
        {
          "name": "stdout",
          "output_type": "stream",
          "text": [
            "Saving skyscrapers.csv to skyscrapers.csv\n"
          ]
        }
      ],
      "source": [
        "from google.colab import files\n",
        "\n",
        "uploaded = files.upload()"
      ]
    },
    {
      "cell_type": "code",
      "execution_count": null,
      "metadata": {
        "colab": {
          "base_uri": "https://localhost:8080/",
          "height": 392
        },
        "id": "EA018AyoCfhx",
        "outputId": "12518ba6-461e-4c1b-8638-72bb89db587f"
      },
      "outputs": [
        {
          "data": {
            "text/html": [
              "<table border=\"1\" class=\"dataframe\">\n",
              "    <thead>\n",
              "        <tr>\n",
              "            <th>name</th> <th>material</th> <th>city</th> <th>height</th> <th>completed</th>\n",
              "        </tr>\n",
              "    </thead>\n",
              "    <tbody>\n",
              "        <tr>\n",
              "            <td>One World Trade Center           </td> <td>mixed/composite</td> <td>New York City</td> <td>541.3 </td> <td>2014     </td>\n",
              "        </tr>\n",
              "        <tr>\n",
              "            <td>Willis Tower                     </td> <td>steel          </td> <td>Chicago      </td> <td>442.14</td> <td>1974     </td>\n",
              "        </tr>\n",
              "        <tr>\n",
              "            <td>432 Park Avenue                  </td> <td>concrete       </td> <td>New York City</td> <td>425.5 </td> <td>2015     </td>\n",
              "        </tr>\n",
              "        <tr>\n",
              "            <td>Trump International Hotel & Tower</td> <td>concrete       </td> <td>Chicago      </td> <td>423.22</td> <td>2009     </td>\n",
              "        </tr>\n",
              "        <tr>\n",
              "            <td>Empire State Building            </td> <td>steel          </td> <td>New York City</td> <td>381   </td> <td>1931     </td>\n",
              "        </tr>\n",
              "        <tr>\n",
              "            <td>Bank of America Tower            </td> <td>mixed/composite</td> <td>New York City</td> <td>365.8 </td> <td>2009     </td>\n",
              "        </tr>\n",
              "        <tr>\n",
              "            <td>Stratosphere Tower               </td> <td>concrete       </td> <td>Las Vegas    </td> <td>350.22</td> <td>1996     </td>\n",
              "        </tr>\n",
              "        <tr>\n",
              "            <td>Aon Center                       </td> <td>steel          </td> <td>Chicago      </td> <td>346.26</td> <td>1973     </td>\n",
              "        </tr>\n",
              "        <tr>\n",
              "            <td>John Hancock Center              </td> <td>steel          </td> <td>Chicago      </td> <td>343.69</td> <td>1969     </td>\n",
              "        </tr>\n",
              "        <tr>\n",
              "            <td>Chrysler Building                </td> <td>steel          </td> <td>New York City</td> <td>318.9 </td> <td>1930     </td>\n",
              "        </tr>\n",
              "    </tbody>\n",
              "</table>\n",
              "<p>... (1771 rows omitted)</p>"
            ],
            "text/plain": [
              "name                              | material        | city          | height | completed\n",
              "One World Trade Center            | mixed/composite | New York City | 541.3  | 2014\n",
              "Willis Tower                      | steel           | Chicago       | 442.14 | 1974\n",
              "432 Park Avenue                   | concrete        | New York City | 425.5  | 2015\n",
              "Trump International Hotel & Tower | concrete        | Chicago       | 423.22 | 2009\n",
              "Empire State Building             | steel           | New York City | 381    | 1931\n",
              "Bank of America Tower             | mixed/composite | New York City | 365.8  | 2009\n",
              "Stratosphere Tower                | concrete        | Las Vegas     | 350.22 | 1996\n",
              "Aon Center                        | steel           | Chicago       | 346.26 | 1973\n",
              "John Hancock Center               | steel           | Chicago       | 343.69 | 1969\n",
              "Chrysler Building                 | steel           | New York City | 318.9  | 1930\n",
              "... (1771 rows omitted)"
            ]
          },
          "execution_count": 51,
          "metadata": {},
          "output_type": "execute_result"
        }
      ],
      "source": [
        "skyscrapers = Table.read_table('skyscrapers.csv')\n",
        "skyscrapers"
      ]
    },
    {
      "cell_type": "code",
      "execution_count": null,
      "metadata": {
        "colab": {
          "base_uri": "https://localhost:8080/",
          "height": 392
        },
        "id": "BzP8RRvYCfhx",
        "outputId": "59feca9d-5358-452f-df0f-20c5c99c8613"
      },
      "outputs": [
        {
          "data": {
            "text/html": [
              "<table border=\"1\" class=\"dataframe\">\n",
              "    <thead>\n",
              "        <tr>\n",
              "            <th>name</th> <th>material</th> <th>city</th> <th>height</th> <th>completed</th>\n",
              "        </tr>\n",
              "    </thead>\n",
              "    <tbody>\n",
              "        <tr>\n",
              "            <td>U.S. Steel Tower      </td> <td>steel          </td> <td>Pittsburgh</td> <td>256.34</td> <td>1970     </td>\n",
              "        </tr>\n",
              "        <tr>\n",
              "            <td>One Mellon Center     </td> <td>steel          </td> <td>Pittsburgh</td> <td>221   </td> <td>1983     </td>\n",
              "        </tr>\n",
              "        <tr>\n",
              "            <td>One PPG Place         </td> <td>steel          </td> <td>Pittsburgh</td> <td>193.55</td> <td>1984     </td>\n",
              "        </tr>\n",
              "        <tr>\n",
              "            <td>Gulf Tower            </td> <td>steel          </td> <td>Pittsburgh</td> <td>177.4 </td> <td>1932     </td>\n",
              "        </tr>\n",
              "        <tr>\n",
              "            <td>The Tower at PNC Plaza</td> <td>mixed/composite</td> <td>Pittsburgh</td> <td>172   </td> <td>2015     </td>\n",
              "        </tr>\n",
              "        <tr>\n",
              "            <td>Cathedral of Learning </td> <td>steel          </td> <td>Pittsburgh</td> <td>163.07</td> <td>1936     </td>\n",
              "        </tr>\n",
              "        <tr>\n",
              "            <td>Three Mellon Center   </td> <td>steel          </td> <td>Pittsburgh</td> <td>158.5 </td> <td>1951     </td>\n",
              "        </tr>\n",
              "        <tr>\n",
              "            <td>K & L Gates Center    </td> <td>steel          </td> <td>Pittsburgh</td> <td>155.76</td> <td>1968     </td>\n",
              "        </tr>\n",
              "        <tr>\n",
              "            <td>Grant Building        </td> <td>steel          </td> <td>Pittsburgh</td> <td>147.83</td> <td>1930     </td>\n",
              "        </tr>\n",
              "        <tr>\n",
              "            <td>Koppers Building      </td> <td>steel          </td> <td>Pittsburgh</td> <td>144.78</td> <td>1929     </td>\n",
              "        </tr>\n",
              "    </tbody>\n",
              "</table>\n",
              "<p>... (26 rows omitted)</p>"
            ],
            "text/plain": [
              "name                   | material        | city       | height | completed\n",
              "U.S. Steel Tower       | steel           | Pittsburgh | 256.34 | 1970\n",
              "One Mellon Center      | steel           | Pittsburgh | 221    | 1983\n",
              "One PPG Place          | steel           | Pittsburgh | 193.55 | 1984\n",
              "Gulf Tower             | steel           | Pittsburgh | 177.4  | 1932\n",
              "The Tower at PNC Plaza | mixed/composite | Pittsburgh | 172    | 2015\n",
              "Cathedral of Learning  | steel           | Pittsburgh | 163.07 | 1936\n",
              "Three Mellon Center    | steel           | Pittsburgh | 158.5  | 1951\n",
              "K & L Gates Center     | steel           | Pittsburgh | 155.76 | 1968\n",
              "Grant Building         | steel           | Pittsburgh | 147.83 | 1930\n",
              "Koppers Building       | steel           | Pittsburgh | 144.78 | 1929\n",
              "... (26 rows omitted)"
            ]
          },
          "execution_count": 53,
          "metadata": {},
          "output_type": "execute_result"
        }
      ],
      "source": [
        "skyscrapers.where('city', 'Pittsburgh')"
      ]
    },
    {
      "cell_type": "code",
      "execution_count": null,
      "metadata": {
        "colab": {
          "base_uri": "https://localhost:8080/",
          "height": 392
        },
        "id": "89j5NEPnCfhx",
        "outputId": "10b3908c-eace-4cca-b9e6-a0817f6b1799"
      },
      "outputs": [
        {
          "data": {
            "text/html": [
              "<table border=\"1\" class=\"dataframe\">\n",
              "    <thead>\n",
              "        <tr>\n",
              "            <th>name</th> <th>material</th> <th>city</th> <th>height</th> <th>completed</th>\n",
              "        </tr>\n",
              "    </thead>\n",
              "    <tbody>\n",
              "        <tr>\n",
              "            <td>200 Clarendon                        </td> <td>steel   </td> <td>Boston</td> <td>240.79</td> <td>1976     </td>\n",
              "        </tr>\n",
              "        <tr>\n",
              "            <td>Prudential Tower                     </td> <td>steel   </td> <td>Boston</td> <td>228.6 </td> <td>1964     </td>\n",
              "        </tr>\n",
              "        <tr>\n",
              "            <td>BNY Mellon Center at One Boston Place</td> <td>steel   </td> <td>Boston</td> <td>183.19</td> <td>1970     </td>\n",
              "        </tr>\n",
              "        <tr>\n",
              "            <td>One International Place              </td> <td>steel   </td> <td>Boston</td> <td>182.88</td> <td>1987     </td>\n",
              "        </tr>\n",
              "        <tr>\n",
              "            <td>One Financial Center                 </td> <td>steel   </td> <td>Boston</td> <td>179.83</td> <td>1984     </td>\n",
              "        </tr>\n",
              "        <tr>\n",
              "            <td>111 Huntington Avenue                </td> <td>steel   </td> <td>Boston</td> <td>172   </td> <td>2002     </td>\n",
              "        </tr>\n",
              "        <tr>\n",
              "            <td>Two International Place              </td> <td>steel   </td> <td>Boston</td> <td>164   </td> <td>1993     </td>\n",
              "        </tr>\n",
              "        <tr>\n",
              "            <td>One Federal Street                   </td> <td>steel   </td> <td>Boston</td> <td>158.5 </td> <td>1976     </td>\n",
              "        </tr>\n",
              "        <tr>\n",
              "            <td>One Beacon Street                    </td> <td>steel   </td> <td>Boston</td> <td>154.5 </td> <td>1972     </td>\n",
              "        </tr>\n",
              "        <tr>\n",
              "            <td>State Street Financial Center        </td> <td>steel   </td> <td>Boston</td> <td>153.32</td> <td>2003     </td>\n",
              "        </tr>\n",
              "    </tbody>\n",
              "</table>\n",
              "<p>... (22 rows omitted)</p>"
            ],
            "text/plain": [
              "name                                  | material | city   | height | completed\n",
              "200 Clarendon                         | steel    | Boston | 240.79 | 1976\n",
              "Prudential Tower                      | steel    | Boston | 228.6  | 1964\n",
              "BNY Mellon Center at One Boston Place | steel    | Boston | 183.19 | 1970\n",
              "One International Place               | steel    | Boston | 182.88 | 1987\n",
              "One Financial Center                  | steel    | Boston | 179.83 | 1984\n",
              "111 Huntington Avenue                 | steel    | Boston | 172    | 2002\n",
              "Two International Place               | steel    | Boston | 164    | 1993\n",
              "One Federal Street                    | steel    | Boston | 158.5  | 1976\n",
              "One Beacon Street                     | steel    | Boston | 154.5  | 1972\n",
              "State Street Financial Center         | steel    | Boston | 153.32 | 2003\n",
              "... (22 rows omitted)"
            ]
          },
          "execution_count": 54,
          "metadata": {},
          "output_type": "execute_result"
        }
      ],
      "source": [
        "skyscrapers.where('city', 'Boston')"
      ]
    },
    {
      "cell_type": "code",
      "execution_count": null,
      "metadata": {
        "colab": {
          "base_uri": "https://localhost:8080/",
          "height": 81
        },
        "id": "JQcMRtv8Cfhx",
        "outputId": "b0dbd18f-34ca-4354-fd35-f8a2587d8708"
      },
      "outputs": [
        {
          "data": {
            "text/html": [
              "<table border=\"1\" class=\"dataframe\">\n",
              "    <thead>\n",
              "        <tr>\n",
              "            <th>name</th> <th>material</th> <th>city</th> <th>height</th> <th>completed</th>\n",
              "        </tr>\n",
              "    </thead>\n",
              "    <tbody>\n",
              "        <tr>\n",
              "            <td>Empire State Building</td> <td>steel   </td> <td>New York City</td> <td>381   </td> <td>1931     </td>\n",
              "        </tr>\n",
              "    </tbody>\n",
              "</table>"
            ],
            "text/plain": [
              "name                  | material | city          | height | completed\n",
              "Empire State Building | steel    | New York City | 381    | 1931"
            ]
          },
          "execution_count": 55,
          "metadata": {},
          "output_type": "execute_result"
        }
      ],
      "source": [
        "skyscrapers.where('name', 'Empire State Building')"
      ]
    },
    {
      "cell_type": "code",
      "execution_count": null,
      "metadata": {
        "colab": {
          "base_uri": "https://localhost:8080/",
          "height": 392
        },
        "id": "jVxiqgKnCfhy",
        "outputId": "c7abd1ad-52d9-4f82-cd96-0a50e6c7839a"
      },
      "outputs": [
        {
          "data": {
            "text/html": [
              "<table border=\"1\" class=\"dataframe\">\n",
              "    <thead>\n",
              "        <tr>\n",
              "            <th>name</th> <th>material</th> <th>city</th> <th>height</th> <th>completed</th>\n",
              "        </tr>\n",
              "    </thead>\n",
              "    <tbody>\n",
              "        <tr>\n",
              "            <td>Statue of Liberty            </td> <td>steel   </td> <td>New York City</td> <td>93    </td> <td>1886     </td>\n",
              "        </tr>\n",
              "        <tr>\n",
              "            <td>Park Place Tower             </td> <td>steel   </td> <td>New York City</td> <td>88.7  </td> <td>1895     </td>\n",
              "        </tr>\n",
              "        <tr>\n",
              "            <td>Bank of Tokyo Building       </td> <td>steel   </td> <td>New York City</td> <td>103   </td> <td>1896     </td>\n",
              "        </tr>\n",
              "        <tr>\n",
              "            <td>Park Row Building            </td> <td>steel   </td> <td>New York City</td> <td>119.18</td> <td>1899     </td>\n",
              "        </tr>\n",
              "        <tr>\n",
              "            <td>Bayard-Condict Building      </td> <td>steel   </td> <td>New York City</td> <td>49.38 </td> <td>1899     </td>\n",
              "        </tr>\n",
              "        <tr>\n",
              "            <td>Flatiron Building            </td> <td>steel   </td> <td>New York City</td> <td>86.87 </td> <td>1902     </td>\n",
              "        </tr>\n",
              "        <tr>\n",
              "            <td>Macy's Store                 </td> <td>steel   </td> <td>New York City</td> <td>60.96 </td> <td>1902     </td>\n",
              "        </tr>\n",
              "        <tr>\n",
              "            <td>Wall Street Exchange Building</td> <td>steel   </td> <td>New York City</td> <td>103.9 </td> <td>1903     </td>\n",
              "        </tr>\n",
              "        <tr>\n",
              "            <td>43 Exchange Place            </td> <td>steel   </td> <td>New York City</td> <td>99.67 </td> <td>1903     </td>\n",
              "        </tr>\n",
              "        <tr>\n",
              "            <td>Trinity Building             </td> <td>steel   </td> <td>New York City</td> <td>106.68</td> <td>1905     </td>\n",
              "        </tr>\n",
              "    </tbody>\n",
              "</table>\n",
              "<p>... (521 rows omitted)</p>"
            ],
            "text/plain": [
              "name                          | material | city          | height | completed\n",
              "Statue of Liberty             | steel    | New York City | 93     | 1886\n",
              "Park Place Tower              | steel    | New York City | 88.7   | 1895\n",
              "Bank of Tokyo Building        | steel    | New York City | 103    | 1896\n",
              "Park Row Building             | steel    | New York City | 119.18 | 1899\n",
              "Bayard-Condict Building       | steel    | New York City | 49.38  | 1899\n",
              "Flatiron Building             | steel    | New York City | 86.87  | 1902\n",
              "Macy's Store                  | steel    | New York City | 60.96  | 1902\n",
              "Wall Street Exchange Building | steel    | New York City | 103.9  | 1903\n",
              "43 Exchange Place             | steel    | New York City | 99.67  | 1903\n",
              "Trinity Building              | steel    | New York City | 106.68 | 1905\n",
              "... (521 rows omitted)"
            ]
          },
          "execution_count": 56,
          "metadata": {},
          "output_type": "execute_result"
        }
      ],
      "source": [
        "skyscrapers.where('city', 'New York City').sort('completed')"
      ]
    },
    {
      "cell_type": "code",
      "execution_count": null,
      "metadata": {
        "colab": {
          "base_uri": "https://localhost:8080/",
          "height": 294
        },
        "id": "1kxFFoDSCfhy",
        "outputId": "db0185c3-cc14-4c6c-b326-450bf15220ac"
      },
      "outputs": [
        {
          "ename": "AttributeError",
          "evalue": "ignored",
          "output_type": "error",
          "traceback": [
            "\u001b[0;31m---------------------------------------------------------------------------\u001b[0m",
            "\u001b[0;31mAttributeError\u001b[0m                            Traceback (most recent call last)",
            "\u001b[0;32m<ipython-input-58-ee4b4dc36cdc>\u001b[0m in \u001b[0;36m<module>\u001b[0;34m()\u001b[0m\n\u001b[0;32m----> 1\u001b[0;31m \u001b[0mskyscrapers\u001b[0m\u001b[0;34m.\u001b[0m\u001b[0munique\u001b[0m\u001b[0;34m(\u001b[0m\u001b[0;34m'city'\u001b[0m\u001b[0;34m)\u001b[0m\u001b[0;34m\u001b[0m\u001b[0;34m\u001b[0m\u001b[0m\n\u001b[0m",
            "\u001b[0;32m/usr/local/lib/python3.7/dist-packages/datascience/tables.py\u001b[0m in \u001b[0;36m__getattr__\u001b[0;34m(self, attr)\u001b[0m\n\u001b[1;32m    316\u001b[0m         \u001b[0;32melse\u001b[0m\u001b[0;34m:\u001b[0m\u001b[0;34m\u001b[0m\u001b[0;34m\u001b[0m\u001b[0m\n\u001b[1;32m    317\u001b[0m             \u001b[0mmsg\u001b[0m \u001b[0;34m=\u001b[0m \u001b[0;34m\"'{0}' object has no attribute '{1}'\"\u001b[0m\u001b[0;34m.\u001b[0m\u001b[0mformat\u001b[0m\u001b[0;34m(\u001b[0m\u001b[0mtype\u001b[0m\u001b[0;34m(\u001b[0m\u001b[0mself\u001b[0m\u001b[0;34m)\u001b[0m\u001b[0;34m.\u001b[0m\u001b[0m__name__\u001b[0m\u001b[0;34m,\u001b[0m \u001b[0mattr\u001b[0m\u001b[0;34m)\u001b[0m\u001b[0;34m\u001b[0m\u001b[0;34m\u001b[0m\u001b[0m\n\u001b[0;32m--> 318\u001b[0;31m             \u001b[0;32mraise\u001b[0m \u001b[0mAttributeError\u001b[0m\u001b[0;34m(\u001b[0m\u001b[0mmsg\u001b[0m\u001b[0;34m)\u001b[0m\u001b[0;34m\u001b[0m\u001b[0;34m\u001b[0m\u001b[0m\n\u001b[0m\u001b[1;32m    319\u001b[0m \u001b[0;34m\u001b[0m\u001b[0m\n\u001b[1;32m    320\u001b[0m     \u001b[0;31m####################\u001b[0m\u001b[0;34m\u001b[0m\u001b[0;34m\u001b[0m\u001b[0;34m\u001b[0m\u001b[0m\n",
            "\u001b[0;31mAttributeError\u001b[0m: 'Table' object has no attribute 'unique'"
          ]
        }
      ],
      "source": [
        "skyscrapers.unique('city')"
      ]
    }
  ],
  "metadata": {
    "anaconda-cloud": {},
    "colab": {
      "provenance": [],
      "include_colab_link": true
    },
    "kernelspec": {
      "display_name": "Python 3",
      "language": "python",
      "name": "python3"
    },
    "language_info": {
      "codemirror_mode": {
        "name": "ipython",
        "version": 3
      },
      "file_extension": ".py",
      "mimetype": "text/x-python",
      "name": "python",
      "nbconvert_exporter": "python",
      "pygments_lexer": "ipython3",
      "version": "3.7.6"
    }
  },
  "nbformat": 4,
  "nbformat_minor": 0
}